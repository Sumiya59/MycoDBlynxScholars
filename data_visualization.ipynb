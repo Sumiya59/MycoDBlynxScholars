{
 "cells": [
  {
   "cell_type": "code",
   "execution_count": null,
   "metadata": {},
   "outputs": [],
   "source": [
    "import pandas as pd\n",
    "import matplotlib.pyplot as plt\n",
    "import seaborn as sns\n",
    "\n",
    "# Load the MycoDB data\n",
    "MycoDB = pd.read_csv('MycoDB.csv')\n",
    "\n",
    "# Visualize the effect size by plant family\n",
    "sns.boxplot(x='PlantFamily', y='EFFECTSIZE1', data=MycoDB)\n",
    "plt.xlabel('Plant family')\n",
    "plt.ylabel('Effect size')\n",
    "plt.title('Effect size by plant family')\n",
    "plt.xticks(rotation=90)\n",
    "plt.show()\n",
    "\n",
    "# Visualize the effect size by fungal genus\n",
    "sns.boxplot(x='FungalGenus', y='EFFECTSIZE1', data=MycoDB)\n",
    "plt.xlabel('Fungal genus')\n",
    "plt.ylabel('Effect size')\n",
    "plt.title('Effect size by fungal genus')\n",
    "plt.xticks(rotation=90)\n",
    "plt.show()\n",
    "\n",
    "# Visualize the effect size by plant life history\n",
    "sns.boxplot(x='PLANTLIFEHISTORY', y='EFFECTSIZE1', data=MycoDB)\n",
    "plt.xlabel('Plant life history')\n",
    "plt.ylabel('Effect size')\n",
    "plt.title('Effect size by plant life history')\n",
    "plt.show()\n",
    "\n",
    "# Visualize the effect size by mycorrhizal type\n",
    "sns.boxplot(x='MYCORRHIZAETYPE', y='EFFECTSIZE1', data=MycoDB)\n",
    "plt.xlabel('Mycorrhizal type')\n",
    "plt.ylabel('Effect size')\n",
    "plt.title('Effect size by mycorrhizal type')\n",
    "plt.show()"
   ]
  }
 ],
 "metadata": {
  "language_info": {
   "name": "python"
  }
 },
 "nbformat": 4,
 "nbformat_minor": 2
}
